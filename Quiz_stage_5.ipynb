{
  "nbformat": 4,
  "nbformat_minor": 0,
  "metadata": {
    "colab": {
      "name": "Quiz - stage 5.ipynb",
      "provenance": []
    },
    "kernelspec": {
      "name": "python3",
      "display_name": "Python 3"
    }
  },
  "cells": [
    {
      "cell_type": "code",
      "metadata": {
        "id": "lNWs9IVNAeRP"
      },
      "source": [
        "# Importing the necessary libraries\n",
        "import numpy as np\n",
        "import pandas as pd\n",
        "import matplotlib.pyplot as plt\n",
        "# Loading in the data\n",
        "df=pd.read_csv('/content/drive/My Drive/household_power_consumption.txt', sep = ';', header=0, low_memory=False, infer_datetime_format=True, parse_dates={'datetime':[0,1]}, index_col=['datetime'],na_values = '?', dtype = float)"
      ],
      "execution_count": 1,
      "outputs": []
    },
    {
      "cell_type": "code",
      "metadata": {
        "id": "QJHtvmifA69g",
        "outputId": "b21e38e1-9804-4726-e36e-9a03f99dadd5",
        "colab": {
          "base_uri": "https://localhost:8080/",
          "height": 237
        }
      },
      "source": [
        "# Viewing the first 5 rows of the dataset\n",
        "df.head(5)"
      ],
      "execution_count": 2,
      "outputs": [
        {
          "output_type": "execute_result",
          "data": {
            "text/html": [
              "<div>\n",
              "<style scoped>\n",
              "    .dataframe tbody tr th:only-of-type {\n",
              "        vertical-align: middle;\n",
              "    }\n",
              "\n",
              "    .dataframe tbody tr th {\n",
              "        vertical-align: top;\n",
              "    }\n",
              "\n",
              "    .dataframe thead th {\n",
              "        text-align: right;\n",
              "    }\n",
              "</style>\n",
              "<table border=\"1\" class=\"dataframe\">\n",
              "  <thead>\n",
              "    <tr style=\"text-align: right;\">\n",
              "      <th></th>\n",
              "      <th>Global_active_power</th>\n",
              "      <th>Global_reactive_power</th>\n",
              "      <th>Voltage</th>\n",
              "      <th>Global_intensity</th>\n",
              "      <th>Sub_metering_1</th>\n",
              "      <th>Sub_metering_2</th>\n",
              "      <th>Sub_metering_3</th>\n",
              "    </tr>\n",
              "    <tr>\n",
              "      <th>datetime</th>\n",
              "      <th></th>\n",
              "      <th></th>\n",
              "      <th></th>\n",
              "      <th></th>\n",
              "      <th></th>\n",
              "      <th></th>\n",
              "      <th></th>\n",
              "    </tr>\n",
              "  </thead>\n",
              "  <tbody>\n",
              "    <tr>\n",
              "      <th>2006-12-16 17:24:00</th>\n",
              "      <td>4.216</td>\n",
              "      <td>0.418</td>\n",
              "      <td>234.84</td>\n",
              "      <td>18.4</td>\n",
              "      <td>0.0</td>\n",
              "      <td>1.0</td>\n",
              "      <td>17.0</td>\n",
              "    </tr>\n",
              "    <tr>\n",
              "      <th>2006-12-16 17:25:00</th>\n",
              "      <td>5.360</td>\n",
              "      <td>0.436</td>\n",
              "      <td>233.63</td>\n",
              "      <td>23.0</td>\n",
              "      <td>0.0</td>\n",
              "      <td>1.0</td>\n",
              "      <td>16.0</td>\n",
              "    </tr>\n",
              "    <tr>\n",
              "      <th>2006-12-16 17:26:00</th>\n",
              "      <td>5.374</td>\n",
              "      <td>0.498</td>\n",
              "      <td>233.29</td>\n",
              "      <td>23.0</td>\n",
              "      <td>0.0</td>\n",
              "      <td>2.0</td>\n",
              "      <td>17.0</td>\n",
              "    </tr>\n",
              "    <tr>\n",
              "      <th>2006-12-16 17:27:00</th>\n",
              "      <td>5.388</td>\n",
              "      <td>0.502</td>\n",
              "      <td>233.74</td>\n",
              "      <td>23.0</td>\n",
              "      <td>0.0</td>\n",
              "      <td>1.0</td>\n",
              "      <td>17.0</td>\n",
              "    </tr>\n",
              "    <tr>\n",
              "      <th>2006-12-16 17:28:00</th>\n",
              "      <td>3.666</td>\n",
              "      <td>0.528</td>\n",
              "      <td>235.68</td>\n",
              "      <td>15.8</td>\n",
              "      <td>0.0</td>\n",
              "      <td>1.0</td>\n",
              "      <td>17.0</td>\n",
              "    </tr>\n",
              "  </tbody>\n",
              "</table>\n",
              "</div>"
            ],
            "text/plain": [
              "                     Global_active_power  ...  Sub_metering_3\n",
              "datetime                                  ...                \n",
              "2006-12-16 17:24:00                4.216  ...            17.0\n",
              "2006-12-16 17:25:00                5.360  ...            16.0\n",
              "2006-12-16 17:26:00                5.374  ...            17.0\n",
              "2006-12-16 17:27:00                5.388  ...            17.0\n",
              "2006-12-16 17:28:00                3.666  ...            17.0\n",
              "\n",
              "[5 rows x 7 columns]"
            ]
          },
          "metadata": {
            "tags": []
          },
          "execution_count": 2
        }
      ]
    },
    {
      "cell_type": "code",
      "metadata": {
        "id": "jwZBey1VBb4g",
        "outputId": "93bbdba3-72a4-4211-84ea-5d284f275f0b",
        "colab": {
          "base_uri": "https://localhost:8080/",
          "height": 162
        }
      },
      "source": [
        "# Checking for missing values\n",
        "df.isnull().sum()"
      ],
      "execution_count": 3,
      "outputs": [
        {
          "output_type": "execute_result",
          "data": {
            "text/plain": [
              "Global_active_power      25979\n",
              "Global_reactive_power    25979\n",
              "Voltage                  25979\n",
              "Global_intensity         25979\n",
              "Sub_metering_1           25979\n",
              "Sub_metering_2           25979\n",
              "Sub_metering_3           25979\n",
              "dtype: int64"
            ]
          },
          "metadata": {
            "tags": []
          },
          "execution_count": 3
        }
      ]
    },
    {
      "cell_type": "code",
      "metadata": {
        "id": "-yG7AyaMBlMz"
      },
      "source": [
        "# Creating a copy\n",
        "df_copy = df.copy()"
      ],
      "execution_count": 4,
      "outputs": []
    },
    {
      "cell_type": "code",
      "metadata": {
        "id": "7qDEdroCBpCb",
        "outputId": "c84b4053-7551-4a13-f00c-9a4eac009e7b",
        "colab": {
          "base_uri": "https://localhost:8080/",
          "height": 290
        }
      },
      "source": [
        "# Downsampling\n",
        "df_daily = df_copy.resample('D').sum()\n",
        "print(df_daily)"
      ],
      "execution_count": 5,
      "outputs": [
        {
          "output_type": "stream",
          "text": [
            "            Global_active_power  ...  Sub_metering_3\n",
            "datetime                         ...                \n",
            "2006-12-16             1209.176  ...          4926.0\n",
            "2006-12-17             3390.460  ...         13341.0\n",
            "2006-12-18             2203.826  ...         14018.0\n",
            "2006-12-19             1666.194  ...          6197.0\n",
            "2006-12-20             2225.748  ...         14063.0\n",
            "...                         ...  ...             ...\n",
            "2010-11-22             2041.536  ...         10136.0\n",
            "2010-11-23             1577.536  ...          7611.0\n",
            "2010-11-24             1796.248  ...         12224.0\n",
            "2010-11-25             1431.164  ...          5072.0\n",
            "2010-11-26             1488.104  ...          9989.0\n",
            "\n",
            "[1442 rows x 7 columns]\n"
          ],
          "name": "stdout"
        }
      ]
    },
    {
      "cell_type": "code",
      "metadata": {
        "id": "B5HU6wpLBsLl"
      },
      "source": [
        "df_daily.fillna(df_daily.mean(), inplace = True)"
      ],
      "execution_count": 6,
      "outputs": []
    },
    {
      "cell_type": "code",
      "metadata": {
        "id": "c9JgXR7iB0ZP",
        "outputId": "e27c9c6a-884c-424b-b887-f573aff3cec6",
        "colab": {
          "base_uri": "https://localhost:8080/",
          "height": 162
        }
      },
      "source": [
        "df_daily.isnull().sum()"
      ],
      "execution_count": 7,
      "outputs": [
        {
          "output_type": "execute_result",
          "data": {
            "text/plain": [
              "Global_active_power      0\n",
              "Global_reactive_power    0\n",
              "Voltage                  0\n",
              "Global_intensity         0\n",
              "Sub_metering_1           0\n",
              "Sub_metering_2           0\n",
              "Sub_metering_3           0\n",
              "dtype: int64"
            ]
          },
          "metadata": {
            "tags": []
          },
          "execution_count": 7
        }
      ]
    },
    {
      "cell_type": "code",
      "metadata": {
        "id": "M7azmDKAB281",
        "outputId": "88f567a8-3780-4065-e22e-a0493fbc6a57",
        "colab": {
          "base_uri": "https://localhost:8080/",
          "height": 409
        }
      },
      "source": [
        "# Plot for global_active_power over time\n",
        "plt.figure(figsize=(10,6))\n",
        "plt.plot(df_daily.index, df_daily.Global_active_power, '--')\n",
        "plt.grid()\n",
        "plt.xlabel('Day')\n",
        "plt.ylabel('G_A_P')"
      ],
      "execution_count": 8,
      "outputs": [
        {
          "output_type": "execute_result",
          "data": {
            "text/plain": [
              "Text(0, 0.5, 'G_A_P')"
            ]
          },
          "metadata": {
            "tags": []
          },
          "execution_count": 8
        },
        {
          "output_type": "display_data",
          "data": {
            "image/png": "[encoded data removed]",
            "text/plain": [
              "<Figure size 720x432 with 1 Axes>"
            ]
          },
          "metadata": {
            "tags": [],
            "needs_background": "light"
          }
        }
      ]
    },
    {
      "cell_type": "code",
      "metadata": {
        "id": "NH4DuZntB7uh",
        "outputId": "b61fa1f5-814c-4c5d-8e00-7f00a732210c",
        "colab": {
          "base_uri": "https://localhost:8080/",
          "height": 35
        }
      },
      "source": [
        "# Pearson correlation\n",
        "from scipy.stats import pearsonr\n",
        "\n",
        "corr1 = pearsonr(df_daily.Global_active_power, df_daily.Global_reactive_power)[0]\n",
        "print(corr1)"
      ],
      "execution_count": 9,
      "outputs": [
        {
          "output_type": "stream",
          "text": [
            "0.1285075044962244\n"
          ],
          "name": "stdout"
        }
      ]
    },
    {
      "cell_type": "code",
      "metadata": {
        "id": "hW0cye2LCDF2",
        "outputId": "014cc16d-3e6d-476d-f3ad-6fe2e79c1493",
        "colab": {
          "base_uri": "https://localhost:8080/",
          "height": 35
        }
      },
      "source": [
        "r, p = pearsonr(df_daily['Voltage'], df_daily['Global_intensity'])\n",
        "print(r)"
      ],
      "execution_count": 10,
      "outputs": [
        {
          "output_type": "stream",
          "text": [
            "0.274402918038032\n"
          ],
          "name": "stdout"
        }
      ]
    },
    {
      "cell_type": "code",
      "metadata": {
        "id": "NlofR9laCQXU",
        "outputId": "9e19f14e-d317-4238-a65f-453f12bb5207",
        "colab": {
          "base_uri": "https://localhost:8080/",
          "height": 206
        }
      },
      "source": [
        "# Univariate time series\n",
        "new_df = df_daily.reset_index()\n",
        "new_df = new_df[['datetime', 'Global_active_power']]\n",
        "\n",
        "new_df = new_df.rename(columns={'datetime': 'ds', 'Global_active_power': 'y'})\n",
        "new_df.head()"
      ],
      "execution_count": 11,
      "outputs": [
        {
          "output_type": "execute_result",
          "data": {
            "text/html": [
              "<div>\n",
              "<style scoped>\n",
              "    .dataframe tbody tr th:only-of-type {\n",
              "        vertical-align: middle;\n",
              "    }\n",
              "\n",
              "    .dataframe tbody tr th {\n",
              "        vertical-align: top;\n",
              "    }\n",
              "\n",
              "    .dataframe thead th {\n",
              "        text-align: right;\n",
              "    }\n",
              "</style>\n",
              "<table border=\"1\" class=\"dataframe\">\n",
              "  <thead>\n",
              "    <tr style=\"text-align: right;\">\n",
              "      <th></th>\n",
              "      <th>ds</th>\n",
              "      <th>y</th>\n",
              "    </tr>\n",
              "  </thead>\n",
              "  <tbody>\n",
              "    <tr>\n",
              "      <th>0</th>\n",
              "      <td>2006-12-16</td>\n",
              "      <td>1209.176</td>\n",
              "    </tr>\n",
              "    <tr>\n",
              "      <th>1</th>\n",
              "      <td>2006-12-17</td>\n",
              "      <td>3390.460</td>\n",
              "    </tr>\n",
              "    <tr>\n",
              "      <th>2</th>\n",
              "      <td>2006-12-18</td>\n",
              "      <td>2203.826</td>\n",
              "    </tr>\n",
              "    <tr>\n",
              "      <th>3</th>\n",
              "      <td>2006-12-19</td>\n",
              "      <td>1666.194</td>\n",
              "    </tr>\n",
              "    <tr>\n",
              "      <th>4</th>\n",
              "      <td>2006-12-20</td>\n",
              "      <td>2225.748</td>\n",
              "    </tr>\n",
              "  </tbody>\n",
              "</table>\n",
              "</div>"
            ],
            "text/plain": [
              "          ds         y\n",
              "0 2006-12-16  1209.176\n",
              "1 2006-12-17  3390.460\n",
              "2 2006-12-18  2203.826\n",
              "3 2006-12-19  1666.194\n",
              "4 2006-12-20  2225.748"
            ]
          },
          "metadata": {
            "tags": []
          },
          "execution_count": 11
        }
      ]
    },
    {
      "cell_type": "code",
      "metadata": {
        "id": "xHbAwlGmCVgN"
      },
      "source": [
        "train = new_df[:-365]\n",
        "test = new_df[-365:]"
      ],
      "execution_count": 12,
      "outputs": []
    },
    {
      "cell_type": "code",
      "metadata": {
        "id": "oy0AxYLJCKQa"
      },
      "source": [
        "from fbprophet import Prophet\n",
        "\n",
        "model = Prophet()"
      ],
      "execution_count": 13,
      "outputs": []
    },
    {
      "cell_type": "code",
      "metadata": {
        "id": "i_p_a-lgCle_",
        "outputId": "a1ef6efb-2d7b-4089-acfb-a68aa665e632",
        "colab": {
          "base_uri": "https://localhost:8080/",
          "height": 72
        }
      },
      "source": [
        "model.fit(train)"
      ],
      "execution_count": 14,
      "outputs": [
        {
          "output_type": "stream",
          "text": [
            "INFO:numexpr.utils:NumExpr defaulting to 2 threads.\n",
            "INFO:fbprophet:Disabling daily seasonality. Run prophet with daily_seasonality=True to override this.\n"
          ],
          "name": "stderr"
        },
        {
          "output_type": "execute_result",
          "data": {
            "text/plain": [
              "<fbprophet.forecaster.Prophet at 0x7f2890eba550>"
            ]
          },
          "metadata": {
            "tags": []
          },
          "execution_count": 14
        }
      ]
    },
    {
      "cell_type": "code",
      "metadata": {
        "id": "8OgwYq0GCZ5j"
      },
      "source": [
        "forecast = model.predict(test)"
      ],
      "execution_count": 15,
      "outputs": []
    },
    {
      "cell_type": "code",
      "metadata": {
        "id": "VJFOAWooDwgN"
      },
      "source": [
        "a = np.array(test['y'])\n",
        "b = np.array(forecast['yhat'])"
      ],
      "execution_count": 16,
      "outputs": []
    },
    {
      "cell_type": "code",
      "metadata": {
        "id": "5KHdTtRyEXhs",
        "outputId": "169d9954-5a31-4636-814f-a5ac66007d38",
        "colab": {
          "base_uri": "https://localhost:8080/",
          "height": 108
        }
      },
      "source": [
        "def mean_absolute_percentage_error(y_true, y_pred): \n",
        "    return np.mean(np.abs((y_true - y_pred) / y_true)) * 100\n",
        "\n",
        "mean_absolute_percentage_error(a, b)"
      ],
      "execution_count": 17,
      "outputs": [
        {
          "output_type": "stream",
          "text": [
            "/usr/local/lib/python3.6/dist-packages/ipykernel_launcher.py:2: RuntimeWarning:\n",
            "\n",
            "divide by zero encountered in true_divide\n",
            "\n"
          ],
          "name": "stderr"
        },
        {
          "output_type": "execute_result",
          "data": {
            "text/plain": [
              "inf"
            ]
          },
          "metadata": {
            "tags": []
          },
          "execution_count": 17
        }
      ]
    },
    {
      "cell_type": "code",
      "metadata": {
        "id": "5j7qZdYEC18F",
        "outputId": "2dbc8c99-e208-42fd-e9b1-9c42545ec1be",
        "colab": {
          "base_uri": "https://localhost:8080/",
          "height": 35
        }
      },
      "source": [
        "from sklearn.metrics import mean_squared_error\n",
        "from math import sqrt\n",
        "\n",
        "rms = sqrt(mean_squared_error(a, b))\n",
        "print(rms)"
      ],
      "execution_count": 18,
      "outputs": [
        {
          "output_type": "stream",
          "text": [
            "441.4333840973149\n"
          ],
          "name": "stdout"
        }
      ]
    },
    {
      "cell_type": "code",
      "metadata": {
        "id": "hFoIDkYNENzB",
        "outputId": "86133f1b-3ba9-4f9f-9c51-bc1ac0be7fff",
        "colab": {
          "base_uri": "https://localhost:8080/",
          "height": 424
        }
      },
      "source": [
        "# Yearly seasonality\n",
        "from fbprophet.plot import plot_yearly\n",
        "plot_yearly(model)"
      ],
      "execution_count": 19,
      "outputs": [
        {
          "output_type": "execute_result",
          "data": {
            "text/plain": [
              "[<matplotlib.lines.Line2D at 0x7f287e3bab70>,\n",
              " <matplotlib.collections.PolyCollection at 0x7f287e36dba8>]"
            ]
          },
          "metadata": {
            "tags": []
          },
          "execution_count": 19
        },
        {
          "output_type": "display_data",
          "data": {
            "image/png": "[encoded data removed]",
            "text/plain": [
              "<Figure size 720x432 with 1 Axes>"
            ]
          },
          "metadata": {
            "tags": []
          }
        }
      ]
    },
    {
      "cell_type": "code",
      "metadata": {
        "id": "2dv2T5WMFn1t",
        "outputId": "1d70200f-1fdc-494e-f2f0-e29897883e49",
        "colab": {
          "base_uri": "https://localhost:8080/",
          "height": 206
        }
      },
      "source": [
        "# Multivariate time series\n",
        "n_df = df_daily.reset_index()\n",
        "n_df = n_df[['datetime', 'Global_active_power', 'Global_reactive_power', 'Voltage', 'Global_intensity', 'Sub_metering_1', 'Sub_metering_2', 'Sub_metering_3']]\n",
        "\n",
        "n_df = n_df.rename(columns={'datetime': 'ds', 'Global_active_power': 'y', 'Global_reactive_power': 'add1', 'Voltage': 'add2', 'Global_intensity': 'add3', 'Sub_metering_1': 'add4', 'Sub_metering_2': 'add5', 'Sub_metering_3': 'add6'})\n",
        "n_df.head()"
      ],
      "execution_count": 20,
      "outputs": [
        {
          "output_type": "execute_result",
          "data": {
            "text/html": [
              "<div>\n",
              "<style scoped>\n",
              "    .dataframe tbody tr th:only-of-type {\n",
              "        vertical-align: middle;\n",
              "    }\n",
              "\n",
              "    .dataframe tbody tr th {\n",
              "        vertical-align: top;\n",
              "    }\n",
              "\n",
              "    .dataframe thead th {\n",
              "        text-align: right;\n",
              "    }\n",
              "</style>\n",
              "<table border=\"1\" class=\"dataframe\">\n",
              "  <thead>\n",
              "    <tr style=\"text-align: right;\">\n",
              "      <th></th>\n",
              "      <th>ds</th>\n",
              "      <th>y</th>\n",
              "      <th>add1</th>\n",
              "      <th>add2</th>\n",
              "      <th>add3</th>\n",
              "      <th>add4</th>\n",
              "      <th>add5</th>\n",
              "      <th>add6</th>\n",
              "    </tr>\n",
              "  </thead>\n",
              "  <tbody>\n",
              "    <tr>\n",
              "      <th>0</th>\n",
              "      <td>2006-12-16</td>\n",
              "      <td>1209.176</td>\n",
              "      <td>34.922</td>\n",
              "      <td>93552.53</td>\n",
              "      <td>5180.8</td>\n",
              "      <td>0.0</td>\n",
              "      <td>546.0</td>\n",
              "      <td>4926.0</td>\n",
              "    </tr>\n",
              "    <tr>\n",
              "      <th>1</th>\n",
              "      <td>2006-12-17</td>\n",
              "      <td>3390.460</td>\n",
              "      <td>226.006</td>\n",
              "      <td>345725.32</td>\n",
              "      <td>14398.6</td>\n",
              "      <td>2033.0</td>\n",
              "      <td>4187.0</td>\n",
              "      <td>13341.0</td>\n",
              "    </tr>\n",
              "    <tr>\n",
              "      <th>2</th>\n",
              "      <td>2006-12-18</td>\n",
              "      <td>2203.826</td>\n",
              "      <td>161.792</td>\n",
              "      <td>347373.64</td>\n",
              "      <td>9247.2</td>\n",
              "      <td>1063.0</td>\n",
              "      <td>2621.0</td>\n",
              "      <td>14018.0</td>\n",
              "    </tr>\n",
              "    <tr>\n",
              "      <th>3</th>\n",
              "      <td>2006-12-19</td>\n",
              "      <td>1666.194</td>\n",
              "      <td>150.942</td>\n",
              "      <td>348479.01</td>\n",
              "      <td>7094.0</td>\n",
              "      <td>839.0</td>\n",
              "      <td>7602.0</td>\n",
              "      <td>6197.0</td>\n",
              "    </tr>\n",
              "    <tr>\n",
              "      <th>4</th>\n",
              "      <td>2006-12-20</td>\n",
              "      <td>2225.748</td>\n",
              "      <td>160.998</td>\n",
              "      <td>348923.61</td>\n",
              "      <td>9313.0</td>\n",
              "      <td>0.0</td>\n",
              "      <td>2648.0</td>\n",
              "      <td>14063.0</td>\n",
              "    </tr>\n",
              "  </tbody>\n",
              "</table>\n",
              "</div>"
            ],
            "text/plain": [
              "          ds         y     add1       add2     add3    add4    add5     add6\n",
              "0 2006-12-16  1209.176   34.922   93552.53   5180.8     0.0   546.0   4926.0\n",
              "1 2006-12-17  3390.460  226.006  345725.32  14398.6  2033.0  4187.0  13341.0\n",
              "2 2006-12-18  2203.826  161.792  347373.64   9247.2  1063.0  2621.0  14018.0\n",
              "3 2006-12-19  1666.194  150.942  348479.01   7094.0   839.0  7602.0   6197.0\n",
              "4 2006-12-20  2225.748  160.998  348923.61   9313.0     0.0  2648.0  14063.0"
            ]
          },
          "metadata": {
            "tags": []
          },
          "execution_count": 20
        }
      ]
    },
    {
      "cell_type": "code",
      "metadata": {
        "id": "VzAEP_84Fyi_"
      },
      "source": [
        "train2 = n_df.iloc[:1077, :]\n",
        "test2 = n_df.iloc[1077:,:]"
      ],
      "execution_count": 21,
      "outputs": []
    },
    {
      "cell_type": "code",
      "metadata": {
        "id": "ELsGX3O6F8y1",
        "outputId": "8a6e8af0-1885-4fd9-b1d1-bc1c0b08c4d8",
        "colab": {
          "base_uri": "https://localhost:8080/",
          "height": 53
        }
      },
      "source": [
        "modell = Prophet()\n",
        "# Adding regressors\n",
        "modell.add_regressor('add1')\n",
        "modell.add_regressor('add2')\n",
        "modell.add_regressor('add3')\n",
        "modell.add_regressor('add4')\n",
        "modell.add_regressor('add5')\n",
        "modell.add_regressor('add6')\n",
        "\n",
        "modell.fit(train2)"
      ],
      "execution_count": 22,
      "outputs": [
        {
          "output_type": "stream",
          "text": [
            "INFO:fbprophet:Disabling daily seasonality. Run prophet with daily_seasonality=True to override this.\n"
          ],
          "name": "stderr"
        },
        {
          "output_type": "execute_result",
          "data": {
            "text/plain": [
              "<fbprophet.forecaster.Prophet at 0x7f287e36d048>"
            ]
          },
          "metadata": {
            "tags": []
          },
          "execution_count": 22
        }
      ]
    },
    {
      "cell_type": "code",
      "metadata": {
        "id": "Fvw4m8NnF_x_"
      },
      "source": [
        "forecast2 = modell.predict(test2)"
      ],
      "execution_count": 23,
      "outputs": []
    },
    {
      "cell_type": "code",
      "metadata": {
        "id": "VDDbzBRNGEQS",
        "outputId": "f7b60092-e5be-4e63-e6cf-715e21cbce35",
        "colab": {
          "base_uri": "https://localhost:8080/",
          "height": 108
        }
      },
      "source": [
        "c = np.array(test2.y)\n",
        "d = np.array(forecast2.yhat)\n",
        "\n",
        "mean_absolute_percentage_error(c, d)"
      ],
      "execution_count": 24,
      "outputs": [
        {
          "output_type": "stream",
          "text": [
            "/usr/local/lib/python3.6/dist-packages/ipykernel_launcher.py:2: RuntimeWarning:\n",
            "\n",
            "divide by zero encountered in true_divide\n",
            "\n"
          ],
          "name": "stderr"
        },
        {
          "output_type": "execute_result",
          "data": {
            "text/plain": [
              "inf"
            ]
          },
          "metadata": {
            "tags": []
          },
          "execution_count": 24
        }
      ]
    },
    {
      "cell_type": "code",
      "metadata": {
        "id": "dKXFYNt5GL__",
        "outputId": "37a5b703-1f44-4668-ec08-02f6c95308ec",
        "colab": {
          "base_uri": "https://localhost:8080/",
          "height": 35
        }
      },
      "source": [
        "rmse = sqrt(mean_squared_error(c, d))\n",
        "rmse"
      ],
      "execution_count": 25,
      "outputs": [
        {
          "output_type": "execute_result",
          "data": {
            "text/plain": [
              "39.39524688130152"
            ]
          },
          "metadata": {
            "tags": []
          },
          "execution_count": 25
        }
      ]
    },
    {
      "cell_type": "code",
      "metadata": {
        "id": "XSnXyv1kGgn7",
        "outputId": "7ef88fd6-e105-425c-edd8-165d10ef095a",
        "colab": {
          "base_uri": "https://localhost:8080/",
          "height": 424
        }
      },
      "source": [
        "# Weekly seasonality\n",
        "from fbprophet.plot import plot_weekly\n",
        "plot_weekly(modell)"
      ],
      "execution_count": 26,
      "outputs": [
        {
          "output_type": "execute_result",
          "data": {
            "text/plain": [
              "[<matplotlib.lines.Line2D at 0x7f287ceba518>,\n",
              " <matplotlib.collections.PolyCollection at 0x7f287ceba898>]"
            ]
          },
          "metadata": {
            "tags": []
          },
          "execution_count": 26
        },
        {
          "output_type": "display_data",
          "data": {
            "image/png": "[encoded data removed]",
            "text/plain": [
              "<Figure size 720x432 with 1 Axes>"
            ]
          },
          "metadata": {
            "tags": []
          }
        }
      ]
    },
    {
      "cell_type": "code",
      "metadata": {
        "id": "rvC91-2GGvDg"
      },
      "source": [
        ""
      ],
      "execution_count": 26,
      "outputs": []
    }
  ]
}